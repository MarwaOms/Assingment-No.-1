{
 "cells": [
  {
   "cell_type": "markdown",
   "id": "0b35bcb7-6d36-456b-8ba8-7bd052167d9f",
   "metadata": {},
   "source": [
    "Learn how to code in python"
   ]
  },
  {
   "cell_type": "code",
   "execution_count": 1,
   "id": "92bdb079",
   "metadata": {},
   "outputs": [],
   "source": [
    "import numpy as np\n"
   ]
  },
  {
   "cell_type": "code",
   "execution_count": 13,
   "id": "5b69c606",
   "metadata": {},
   "outputs": [],
   "source": [
    "list1 = [1, 2, 3]"
   ]
  },
  {
   "cell_type": "code",
   "execution_count": 14,
   "id": "96672730",
   "metadata": {},
   "outputs": [],
   "source": [
    "list2 = [[10],\n",
    "        [20],\n",
    "        [30]]\n",
    "  "
   ]
  },
  {
   "cell_type": "code",
   "execution_count": 15,
   "id": "0c2ef658",
   "metadata": {},
   "outputs": [],
   "source": [
    "v1 = np.array(list1)"
   ]
  },
  {
   "cell_type": "code",
   "execution_count": 16,
   "id": "76d87491",
   "metadata": {},
   "outputs": [],
   "source": [
    "v2 = np.array(list2)"
   ]
  },
  {
   "cell_type": "code",
   "execution_count": 17,
   "id": "0fd14239",
   "metadata": {},
   "outputs": [],
   "source": [
    "dist = np.linalg.norm(v1-v2)\n"
   ]
  },
  {
   "cell_type": "code",
   "execution_count": 18,
   "id": "c119cbbb",
   "metadata": {},
   "outputs": [
    {
     "name": "stdout",
     "output_type": "stream",
     "text": [
      "59.34644049983116\n"
     ]
    }
   ],
   "source": [
    "print(dist)"
   ]
  },
  {
   "cell_type": "code",
   "execution_count": 36,
   "id": "d654d9cc",
   "metadata": {},
   "outputs": [
    {
     "ename": "IndentationError",
     "evalue": "unindent does not match any outer indentation level (<tokenize>, line 7)",
     "output_type": "error",
     "traceback": [
      "\u001b[1;36m  File \u001b[1;32m<tokenize>:7\u001b[1;36m\u001b[0m\n\u001b[1;33m    for j in range(d):\u001b[0m\n\u001b[1;37m    ^\u001b[0m\n\u001b[1;31mIndentationError\u001b[0m\u001b[1;31m:\u001b[0m unindent does not match any outer indentation level\n"
     ]
    }
   ],
   "source": [
    "import numpy as np\n",
    "\n",
    "def dist_loops(X):\n",
    "  N = X.shape[0]\n",
    "  d = X.shape[1]\n",
    "     for i in range(N):\n",
    "    for j in range(d):\n",
    "        distance =(X[i]**2+X[j]**2)\n",
    "        return ((distance)**0.5)\n"
   ]
  },
  {
   "cell_type": "code",
   "execution_count": 37,
   "id": "83445c90",
   "metadata": {},
   "outputs": [],
   "source": [
    "def dist_vec(X):\n",
    " dist = np.linalg.norm(X)"
   ]
  },
  {
   "cell_type": "code",
   "execution_count": 39,
   "id": "95ff418f",
   "metadata": {},
   "outputs": [
    {
     "name": "stdout",
     "output_type": "stream",
     "text": [
      "The slowest run took 103.95 times longer than the fastest. This could mean that an intermediate result is being cached.\n",
      "4.99 ms ± 6.84 ms per loop (mean ± std. dev. of 3 runs, 3 loops each)\n"
     ]
    }
   ],
   "source": [
    "import numpy as np\n",
    "\n",
    "# N=300 samples, whose dimensions are d=784 \n",
    "X = np.random.normal(size=(300,784))\n",
    "\n",
    "\n",
    "%timeit -n3 -r3  dist_vec(X)"
   ]
  },
  {
   "cell_type": "code",
   "execution_count": null,
   "id": "e034d391",
   "metadata": {},
   "outputs": [],
   "source": []
  }
 ],
 "metadata": {
  "kernelspec": {
   "display_name": "Python 3 (ipykernel)",
   "language": "python",
   "name": "python3"
  },
  "language_info": {
   "codemirror_mode": {
    "name": "ipython",
    "version": 3
   },
   "file_extension": ".py",
   "mimetype": "text/x-python",
   "name": "python",
   "nbconvert_exporter": "python",
   "pygments_lexer": "ipython3",
   "version": "3.9.12"
  }
 },
 "nbformat": 4,
 "nbformat_minor": 5
}
